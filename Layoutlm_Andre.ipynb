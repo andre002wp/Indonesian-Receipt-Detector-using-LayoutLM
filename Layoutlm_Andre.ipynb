{
 "cells": [
  {
   "cell_type": "code",
   "execution_count": 1,
   "metadata": {},
   "outputs": [],
   "source": [
    "import os\n",
    "import json\n",
    "import cv2\n",
    "import numpy as np\n",
    "import matplotlib.pyplot as plt\n",
    "import torch\n",
    "import tqdm\n",
    "from PIL import Image\n",
    "from PIL import ImageDraw, ImageFont\n",
    "from datasets import Features, Sequence, ClassLabel, Value, Array2D, Array3D\n",
    "from datasets import load_dataset \n",
    "from datasets import load_metric\n",
    "from datasets.features import ClassLabel\n",
    "from transformers.data.data_collator import default_data_collator\n",
    "from transformers import AutoProcessor\n",
    "from transformers import LayoutLMv3ForTokenClassification\n",
    "from transformers import TrainingArguments, Trainer\n",
    "from transformers import AutoModelForTokenClassification\n",
    "DIR = os.getcwd()\n"
   ]
  },
  {
   "cell_type": "code",
   "execution_count": 2,
   "metadata": {},
   "outputs": [],
   "source": [
    "!git config --global user.email \"andre002wp@gmail.com\"\n",
    "!git config --global user.name \"andre002wp\""
   ]
  },
  {
   "cell_type": "code",
   "execution_count": 3,
   "metadata": {},
   "outputs": [
    {
     "name": "stderr",
     "output_type": "stream",
     "text": [
      "Found cached dataset wildreceipt (C:/Users/asus/.cache/huggingface/datasets/Theivaprakasham___wildreceipt/WildReceipt/1.0.0/643cda6d4cd0ff2e8d7ee57e4872c509b29060f1df957b5a59e66d9940b9594e)\n"
     ]
    },
    {
     "data": {
      "application/vnd.jupyter.widget-view+json": {
       "model_id": "7ebcaac1ab0b4f449c587e152011b629",
       "version_major": 2,
       "version_minor": 0
      },
      "text/plain": [
       "  0%|          | 0/2 [00:00<?, ?it/s]"
      ]
     },
     "metadata": {},
     "output_type": "display_data"
    },
    {
     "name": "stdout",
     "output_type": "stream",
     "text": [
      "['SAFEWAY', 'TM', 'ATOREMGRTOMMILAZZO', '703-777-5833', 'THANKYOUFORSHOPPINGWITHUS!', 'GROCERY', 'BCCHOCCUPCAKES', 'ACNSPRYFRTSHAPE', 'Regprice', 'Cardsavings', 'MfrCpn', 'MultipliedCpn', 'DULCEDELECHECHE', 'Regprice', 'CardSavings', 'MfrCpn', 'MuitipliedCpn', 'MULTIGRAINCHEERIO', 'RegPrice', 'CardSavings', 'MfrCpn', 'MuitieliedCpn', 'PROGRESSOR&HSTK', 'RegPrice', 'CardSavings', 'REFRIG/FROZEN', '3.99', '.49', '3.79', '1.80-', '.75-', '.75-', '1.99', '4.19', '1.20-', '.50-', '.50-', '1.50', '3.99', '1.49-', '.50-', '.50-', '2.00', '2.69', '.69-', '1OIY', 'PLSBRYBSCTSANDWI', 'TOTINOSPZASTOFFE', 'RegPrice', '', '', '3.50', '3.49', 'B', 'B', 'B', 'B', 'B', 'B', 'B']\n",
      "[[343, 86, 585, 158], [655, 163, 671, 175], [334, 166, 520, 199], [566, 185, 675, 213], [360, 191, 635, 235], [452, 295, 525, 322], [296, 328, 458, 360], [293, 350, 477, 388], [291, 373, 371, 402], [289, 398, 411, 430], [286, 422, 358, 448], [284, 446, 428, 481], [283, 470, 468, 509], [280, 494, 363, 520], [278, 519, 402, 551], [276, 541, 348, 569], [275, 568, 420, 602], [273, 590, 460, 631], [270, 615, 353, 645], [268, 640, 395, 673], [266, 666, 340, 691], [265, 692, 412, 726], [261, 716, 442, 755], [258, 741, 343, 768], [258, 769, 384, 801], [383, 834, 522, 874], [628, 364, 668, 387], [639, 390, 666, 409], [530, 400, 570, 424], [529, 426, 579, 448], [539, 452, 578, 471], [538, 476, 576, 496], [620, 508, 662, 534], [522, 524, 563, 545], [521, 548, 572, 569], [533, 573, 571, 594], [531, 599, 570, 619], [615, 633, 656, 659], [515, 645, 556, 670], [516, 670, 566, 693], [525, 698, 564, 720], [524, 724, 563, 745], [607, 760, 650, 788], [507, 773, 548, 797], [519, 802, 558, 824], [251, 870, 301, 890], [246, 893, 439, 939], [246, 920, 438, 965], [243, 946, 328, 977], [240, 976, 368, 999], [493, 980, 538, 998], [598, 943, 643, 975], [597, 969, 643, 998], [681, 365, 689, 388], [680, 390, 688, 411], [673, 512, 682, 535], [668, 637, 679, 660], [663, 765, 673, 790], [653, 952, 664, 973], [652, 980, 662, 998]]\n",
      "[1, 25, 25, 5, 25, 25, 11, 11, 25, 25, 25, 25, 11, 25, 25, 25, 25, 11, 25, 25, 25, 25, 11, 25, 25, 25, 15, 15, 25, 25, 25, 25, 15, 25, 25, 25, 25, 15, 25, 25, 25, 25, 15, 25, 25, 14, 11, 11, 25, 0, 0, 15, 15, 25, 25, 25, 25, 25, 25, 25]\n"
     ]
    }
   ],
   "source": [
    "dataset = load_dataset(\"Theivaprakasham/wildreceipt\")\n",
    "example = dataset[\"train\"][0]\n",
    "example[\"image_path\"]\n",
    "words, bboxes, ner_tags = example[\"words\"], example[\"bboxes\"], example[\"ner_tags\"]\n",
    "print(words)\n",
    "print(bboxes)\n",
    "print(ner_tags)"
   ]
  },
  {
   "attachments": {},
   "cell_type": "markdown",
   "metadata": {},
   "source": [
    "## Exploration"
   ]
  },
  {
   "cell_type": "code",
   "execution_count": 31,
   "metadata": {},
   "outputs": [
    {
     "data": {
      "text/plain": [
       "Dataset({\n",
       "    features: ['id', 'words', 'bboxes', 'ner_tags', 'image_path'],\n",
       "    num_rows: 1267\n",
       "})"
      ]
     },
     "execution_count": 31,
     "metadata": {},
     "output_type": "execute_result"
    }
   ],
   "source": [
    "dataset[\"train\"]"
   ]
  },
  {
   "cell_type": "code",
   "execution_count": 32,
   "metadata": {},
   "outputs": [
    {
     "data": {
      "text/plain": [
       "Dataset({\n",
       "    features: ['id', 'words', 'bboxes', 'ner_tags', 'image_path'],\n",
       "    num_rows: 472\n",
       "})"
      ]
     },
     "execution_count": 32,
     "metadata": {},
     "output_type": "execute_result"
    }
   ],
   "source": [
    "dataset[\"test\"]"
   ]
  },
  {
   "cell_type": "markdown",
   "metadata": {},
   "source": [
    "## random test"
   ]
  },
  {
   "cell_type": "code",
   "execution_count": 4,
   "metadata": {},
   "outputs": [],
   "source": [
    "def normalize_bbox(bbox, size):\n",
    "    return [\n",
    "        int(bbox[0] * 1000 / size[1]),\n",
    "        int(bbox[1] * 1000 / size[0]),\n",
    "        int(bbox[2] * 1000 / size[1]),\n",
    "        int(bbox[3] * 1000 / size[0]),\n",
    "    ]\n",
    "\n",
    "def unnormalize_bbox(bbox, size):\n",
    "    return [\n",
    "        int(bbox[0] * size[1] / 1000),\n",
    "        int(bbox[1] * size[0] / 1000),\n",
    "        int(bbox[2] * size[1] / 1000),\n",
    "        int(bbox[3] * size[0] / 1000),\n",
    "    ]"
   ]
  },
  {
   "cell_type": "code",
   "execution_count": 5,
   "metadata": {},
   "outputs": [
    {
     "data": {
      "image/png": "[encoded data removed]",
      "text/plain": [
       "<Figure size 432x288 with 1 Axes>"
      ]
     },
     "metadata": {
      "needs_background": "light"
     },
     "output_type": "display_data"
    },
    {
     "name": "stdout",
     "output_type": "stream",
     "text": [
      "(1200, 1600, 3)\n"
     ]
    },
    {
     "data": {
      "text/plain": [
       "[576, 229, 1016, 282]"
      ]
     },
     "execution_count": 5,
     "metadata": {},
     "output_type": "execute_result"
    }
   ],
   "source": [
    "img_read = cv2.imread(example[\"image_path\"])\n",
    "img_read = cv2.cvtColor(img_read, cv2.COLOR_BGR2RGB)\n",
    "if img_read is None:\n",
    "    raise Exception(f\"Image {example['image_path']} not found\")\n",
    "\n",
    "xx = [360, 191, 635, 235]\n",
    "xx = unnormalize_bbox(xx, img_read.shape)\n",
    "plt.imshow(img_read[xx[1]:xx[3],xx[0]:xx[2]])\n",
    "plt.show()\n",
    "print(img_read.shape)\n",
    "xx"
   ]
  },
  {
   "cell_type": "markdown",
   "metadata": {},
   "source": [
    "## Continue"
   ]
  },
  {
   "cell_type": "code",
   "execution_count": 6,
   "metadata": {},
   "outputs": [
    {
     "data": {
      "application/vnd.jupyter.widget-view+json": {
       "model_id": "bf84ea0ed7ef4d87b9c75e8e8ef53ea8",
       "version_major": 2,
       "version_minor": 0
      },
      "text/plain": [
       "Downloading:   0%|          | 0.00/275 [00:00<?, ?B/s]"
      ]
     },
     "metadata": {},
     "output_type": "display_data"
    },
    {
     "name": "stderr",
     "output_type": "stream",
     "text": [
      "c:\\Users\\asus\\AppData\\Local\\Programs\\Python\\Python310\\lib\\site-packages\\huggingface_hub\\file_download.py:123: UserWarning: `huggingface_hub` cache-system uses symlinks by default to efficiently store duplicated files but your machine does not support them in C:\\Users\\asus\\.cache\\huggingface\\hub. Caching files will still work but in a degraded version that might require more space on your disk. This warning can be disabled by setting the `HF_HUB_DISABLE_SYMLINKS_WARNING` environment variable. For more details, see https://huggingface.co/docs/huggingface_hub/how-to-cache#limitations.\n",
      "To support symlinks on Windows, you either need to activate Developer Mode or to run Python as an administrator. In order to see activate developer mode, see this article: https://docs.microsoft.com/en-us/windows/apps/get-started/enable-your-device-for-development\n",
      "  warnings.warn(message)\n"
     ]
    },
    {
     "data": {
      "application/vnd.jupyter.widget-view+json": {
       "model_id": "49c6c46036dd442caeff4d6310674701",
       "version_major": 2,
       "version_minor": 0
      },
      "text/plain": [
       "Downloading:   0%|          | 0.00/1.14k [00:00<?, ?B/s]"
      ]
     },
     "metadata": {},
     "output_type": "display_data"
    },
    {
     "data": {
      "application/vnd.jupyter.widget-view+json": {
       "model_id": "f6cb4c53018944f982fb895f8dc09f11",
       "version_major": 2,
       "version_minor": 0
      },
      "text/plain": [
       "Downloading:   0%|          | 0.00/856 [00:00<?, ?B/s]"
      ]
     },
     "metadata": {},
     "output_type": "display_data"
    },
    {
     "data": {
      "application/vnd.jupyter.widget-view+json": {
       "model_id": "e219bd34716c48f5abf3f88c21beb667",
       "version_major": 2,
       "version_minor": 0
      },
      "text/plain": [
       "Downloading:   0%|          | 0.00/899k [00:00<?, ?B/s]"
      ]
     },
     "metadata": {},
     "output_type": "display_data"
    },
    {
     "data": {
      "application/vnd.jupyter.widget-view+json": {
       "model_id": "de792865fc6a493cafa13a69a28dc340",
       "version_major": 2,
       "version_minor": 0
      },
      "text/plain": [
       "Downloading:   0%|          | 0.00/456k [00:00<?, ?B/s]"
      ]
     },
     "metadata": {},
     "output_type": "display_data"
    }
   ],
   "source": [
    "# we'll use the Auto API here - it will load LayoutLMv3Processor behind the scenes,\n",
    "# based on the checkpoint we provide from the hub\n",
    "processor = AutoProcessor.from_pretrained(\"microsoft/layoutlmv3-base\", apply_ocr=False)"
   ]
  },
  {
   "cell_type": "code",
   "execution_count": 7,
   "metadata": {},
   "outputs": [],
   "source": [
    "features = dataset[\"train\"].features\n",
    "column_names = dataset[\"train\"].column_names\n",
    "image_column_name = \"image_path\"\n",
    "\n",
    "# In the event the labels are not a `Sequence[ClassLabel]`, we will need to go through the dataset to get the\n",
    "# unique labels.\n",
    "def get_label_list(labels):\n",
    "    unique_labels = set()\n",
    "    for label in labels:\n",
    "        unique_labels = unique_labels | set(label)\n",
    "    label_list = list(unique_labels)\n",
    "    label_list.sort()\n",
    "    return label_list\n",
    "\n",
    "if isinstance(features[\"ner_tags\"].feature, ClassLabel):\n",
    "    label_list = features[\"ner_tags\"].feature.names\n",
    "    # No need to convert the labels since they are already ints.\n",
    "    id2label = {k: v for k,v in enumerate(label_list)}\n",
    "    label2id = {v: k for k,v in enumerate(label_list)}\n",
    "else:\n",
    "    label_list = get_label_list(dataset[\"train\"][\"ner_tags\"])\n",
    "    id2label = {k: v for k,v in enumerate(label_list)}\n",
    "    label2id = {v: k for k,v in enumerate(label_list)}\n",
    "num_labels = len(label_list)"
   ]
  },
  {
   "cell_type": "code",
   "execution_count": 8,
   "metadata": {},
   "outputs": [
    {
     "name": "stdout",
     "output_type": "stream",
     "text": [
      "{0: 'Ignore', 1: 'Store_name_value', 2: 'Store_name_key', 3: 'Store_addr_value', 4: 'Store_addr_key', 5: 'Tel_value', 6: 'Tel_key', 7: 'Date_value', 8: 'Date_key', 9: 'Time_value', 10: 'Time_key', 11: 'Prod_item_value', 12: 'Prod_item_key', 13: 'Prod_quantity_value', 14: 'Prod_quantity_key', 15: 'Prod_price_value', 16: 'Prod_price_key', 17: 'Subtotal_value', 18: 'Subtotal_key', 19: 'Tax_value', 20: 'Tax_key', 21: 'Tips_value', 22: 'Tips_key', 23: 'Total_value', 24: 'Total_key', 25: 'Others'}\n"
     ]
    }
   ],
   "source": [
    "print(id2label)"
   ]
  },
  {
   "cell_type": "code",
   "execution_count": 9,
   "metadata": {},
   "outputs": [
    {
     "data": {
      "text/plain": [
       "['id', 'words', 'bboxes', 'ner_tags', 'image_path']"
      ]
     },
     "execution_count": 9,
     "metadata": {},
     "output_type": "execute_result"
    }
   ],
   "source": [
    "dataset[\"train\"][0]['words'] #words\n",
    "dataset[\"train\"][0]['bboxes'] #boxes\n",
    "dataset[\"train\"][0]['ner_tags'] #word_labels\n",
    "dataset[\"train\"].column_names"
   ]
  },
  {
   "cell_type": "code",
   "execution_count": 10,
   "metadata": {},
   "outputs": [],
   "source": [
    "def prepare_examples(examples):\n",
    "  images = [Image.open(path).convert(\"RGB\") for path in examples['image_path']] #Image.open(examples[image_column_name])\n",
    "  words = examples[\"words\"]\n",
    "  boxes = examples[\"bboxes\"]\n",
    "  word_labels = examples[\"ner_tags\"]\n",
    "\n",
    "  encoding = processor(images, words, boxes=boxes, word_labels=word_labels,\n",
    "                       truncation=True, padding=\"max_length\")\n",
    "\n",
    "  return encoding"
   ]
  },
  {
   "cell_type": "code",
   "execution_count": 11,
   "metadata": {},
   "outputs": [
    {
     "data": {
      "application/vnd.jupyter.widget-view+json": {
       "model_id": "c214381bc4a64105b2e76337029b4a85",
       "version_major": 2,
       "version_minor": 0
      },
      "text/plain": [
       "  0%|          | 0/2 [00:00<?, ?ba/s]"
      ]
     },
     "metadata": {},
     "output_type": "display_data"
    },
    {
     "data": {
      "application/vnd.jupyter.widget-view+json": {
       "model_id": "e347987209114d5089e319ccc14c7af3",
       "version_major": 2,
       "version_minor": 0
      },
      "text/plain": [
       "  0%|          | 0/1 [00:00<?, ?ba/s]"
      ]
     },
     "metadata": {},
     "output_type": "display_data"
    }
   ],
   "source": [
    "features = Features({\n",
    "    'pixel_values': Array3D(dtype=\"float32\", shape=(3, 224, 224)),\n",
    "    'input_ids': Sequence(feature=Value(dtype='int64')),\n",
    "    'attention_mask': Sequence(Value(dtype='int64')),\n",
    "    'bbox': Array2D(dtype=\"int64\", shape=(512, 4)),\n",
    "    'labels': Sequence(ClassLabel(names=label_list)),\n",
    "})\n",
    "\n",
    "train_dataset = dataset[\"train\"].map(\n",
    "    prepare_examples,\n",
    "    batched=True,\n",
    "    remove_columns=column_names,\n",
    "    features=features,\n",
    ")\n",
    "eval_dataset = dataset[\"test\"].map(\n",
    "    prepare_examples,\n",
    "    batched=True,\n",
    "    remove_columns=column_names,\n",
    "    features=features,\n",
    ")"
   ]
  },
  {
   "cell_type": "code",
   "execution_count": 12,
   "metadata": {},
   "outputs": [
    {
     "data": {
      "text/plain": [
       "'<s> SAFEWAY TM ATOREMGRTOMMILAZZO 703-777-5833 THANKYOUFORSHOPPINGWITHUS! GROCERY BCCHOCCUPCAKES ACNSPRYFRTSHAPE Regprice Cardsavings MfrCpn MultipliedCpn DULCEDELECHECHE Regprice CardSavings MfrCpn MuitipliedCpn MULTIGRAINCHEERIO RegPrice CardSavings MfrCpn MuitieliedCpn PROGRESSOR&HSTK RegPrice CardSavings REFRIG/FROZEN 3.99.49 3.79 1.80-.75-.75- 1.99 4.19 1.20-.50-.50- 1.50 3.99 1.49-.50-.50- 2.00 2.69.69- 1OIY PLSBRYBSCTSANDWI TOTINOSPZASTOFFE RegPrice 3.50 3.49 B B B B B B B</s><pad><pad><pad><pad><pad><pad><pad><pad><pad><pad><pad><pad><pad><pad><pad><pad><pad><pad><pad><pad><pad><pad><pad><pad><pad><pad><pad><pad><pad><pad><pad><pad><pad><pad><pad><pad><pad><pad><pad><pad><pad><pad><pad><pad><pad><pad><pad><pad><pad><pad><pad><pad><pad><pad><pad><pad><pad><pad><pad><pad><pad><pad><pad><pad><pad><pad><pad><pad><pad><pad><pad><pad><pad><pad><pad><pad><pad><pad><pad><pad><pad><pad><pad><pad><pad><pad><pad><pad><pad><pad><pad><pad><pad><pad><pad><pad><pad><pad><pad><pad><pad><pad><pad><pad><pad><pad><pad><pad><pad><pad><pad><pad><pad><pad><pad><pad><pad><pad><pad><pad><pad><pad><pad><pad><pad><pad><pad><pad><pad><pad><pad><pad><pad><pad><pad><pad><pad><pad><pad><pad><pad><pad><pad><pad><pad><pad><pad><pad><pad><pad><pad><pad><pad><pad><pad><pad><pad><pad><pad><pad><pad><pad><pad><pad><pad><pad><pad><pad><pad><pad><pad><pad><pad><pad><pad><pad><pad><pad><pad><pad><pad><pad><pad><pad><pad><pad><pad><pad><pad><pad><pad><pad><pad><pad><pad><pad><pad><pad><pad><pad><pad><pad><pad><pad><pad><pad><pad><pad><pad><pad><pad><pad><pad><pad><pad><pad><pad><pad><pad><pad><pad><pad><pad><pad><pad><pad><pad><pad><pad><pad><pad><pad><pad><pad><pad><pad><pad><pad><pad><pad><pad><pad><pad><pad><pad><pad><pad><pad><pad><pad><pad><pad><pad><pad><pad><pad><pad><pad><pad><pad><pad><pad><pad><pad><pad><pad><pad><pad><pad><pad><pad><pad><pad><pad><pad><pad><pad><pad><pad><pad><pad>'"
      ]
     },
     "execution_count": 12,
     "metadata": {},
     "output_type": "execute_result"
    }
   ],
   "source": [
    "example = train_dataset[0]\n",
    "processor.tokenizer.decode(example[\"input_ids\"])"
   ]
  },
  {
   "cell_type": "code",
   "execution_count": 13,
   "metadata": {},
   "outputs": [],
   "source": [
    "train_dataset.set_format(\"torch\")"
   ]
  },
  {
   "cell_type": "code",
   "execution_count": 14,
   "metadata": {},
   "outputs": [
    {
     "name": "stdout",
     "output_type": "stream",
     "text": [
      "pixel_values torch.Size([3, 224, 224])\n",
      "input_ids torch.Size([512])\n",
      "attention_mask torch.Size([512])\n",
      "bbox torch.Size([512, 4])\n",
      "labels torch.Size([512])\n"
     ]
    }
   ],
   "source": [
    "example = train_dataset[0]\n",
    "for k,v in example.items():\n",
    "    print(k,v.shape)"
   ]
  },
  {
   "cell_type": "code",
   "execution_count": 16,
   "metadata": {},
   "outputs": [
    {
     "data": {
      "text/plain": [
       "Dataset({\n",
       "    features: ['pixel_values', 'input_ids', 'attention_mask', 'bbox', 'labels'],\n",
       "    num_rows: 1267\n",
       "})"
      ]
     },
     "execution_count": 16,
     "metadata": {},
     "output_type": "execute_result"
    }
   ],
   "source": [
    "train_dataset"
   ]
  },
  {
   "cell_type": "code",
   "execution_count": 15,
   "metadata": {},
   "outputs": [
    {
     "data": {
      "text/plain": [
       "Dataset({\n",
       "    features: ['pixel_values', 'input_ids', 'attention_mask', 'bbox', 'labels'],\n",
       "    num_rows: 472\n",
       "})"
      ]
     },
     "execution_count": 15,
     "metadata": {},
     "output_type": "execute_result"
    }
   ],
   "source": [
    "eval_dataset"
   ]
  },
  {
   "cell_type": "code",
   "execution_count": 33,
   "metadata": {},
   "outputs": [
    {
     "data": {
      "text/plain": [
       "'<s> CHOEUN KOREANRESTAURANT 2621ORANGETHORPEAVE,FULLERTON. (714)879-3574 THANKYOU!! DATE 12/30/2016FRI 19:19 BIBIM.OCTOPUT1 S-FOODP.CAKT1 PORKDUMPLINT1 LABEEFRIBT1 $13.99 $14.99 $8.99 ￥17.99 4.00xITEMS SUBTOTAL TAX1 TOTAL $55.96 $4.48 $60.44 TIME</s><pad><pad><pad><pad><pad><pad><pad><pad><pad><pad><pad><pad><pad><pad><pad><pad><pad><pad><pad><pad><pad><pad><pad><pad><pad><pad><pad><pad><pad><pad><pad><pad><pad><pad><pad><pad><pad><pad><pad><pad><pad><pad><pad><pad><pad><pad><pad><pad><pad><pad><pad><pad><pad><pad><pad><pad><pad><pad><pad><pad><pad><pad><pad><pad><pad><pad><pad><pad><pad><pad><pad><pad><pad><pad><pad><pad><pad><pad><pad><pad><pad><pad><pad><pad><pad><pad><pad><pad><pad><pad><pad><pad><pad><pad><pad><pad><pad><pad><pad><pad><pad><pad><pad><pad><pad><pad><pad><pad><pad><pad><pad><pad><pad><pad><pad><pad><pad><pad><pad><pad><pad><pad><pad><pad><pad><pad><pad><pad><pad><pad><pad><pad><pad><pad><pad><pad><pad><pad><pad><pad><pad><pad><pad><pad><pad><pad><pad><pad><pad><pad><pad><pad><pad><pad><pad><pad><pad><pad><pad><pad><pad><pad><pad><pad><pad><pad><pad><pad><pad><pad><pad><pad><pad><pad><pad><pad><pad><pad><pad><pad><pad><pad><pad><pad><pad><pad><pad><pad><pad><pad><pad><pad><pad><pad><pad><pad><pad><pad><pad><pad><pad><pad><pad><pad><pad><pad><pad><pad><pad><pad><pad><pad><pad><pad><pad><pad><pad><pad><pad><pad><pad><pad><pad><pad><pad><pad><pad><pad><pad><pad><pad><pad><pad><pad><pad><pad><pad><pad><pad><pad><pad><pad><pad><pad><pad><pad><pad><pad><pad><pad><pad><pad><pad><pad><pad><pad><pad><pad><pad><pad><pad><pad><pad><pad><pad><pad><pad><pad><pad><pad><pad><pad><pad><pad><pad><pad><pad><pad><pad><pad><pad><pad><pad><pad><pad><pad><pad><pad><pad><pad><pad><pad><pad><pad><pad><pad><pad><pad><pad><pad><pad><pad><pad><pad><pad><pad><pad><pad><pad><pad><pad><pad><pad><pad><pad><pad><pad><pad><pad><pad><pad><pad><pad><pad><pad><pad><pad><pad><pad><pad><pad><pad><pad><pad><pad><pad><pad><pad><pad><pad><pad><pad><pad><pad><pad><pad><pad><pad><pad><pad><pad><pad><pad><pad><pad><pad><pad><pad><pad><pad><pad><pad><pad><pad><pad><pad><pad><pad><pad><pad><pad><pad><pad><pad><pad><pad><pad><pad><pad><pad><pad><pad><pad><pad><pad><pad>'"
      ]
     },
     "execution_count": 33,
     "metadata": {},
     "output_type": "execute_result"
    }
   ],
   "source": [
    "processor.tokenizer.decode(eval_dataset[0][\"input_ids\"])"
   ]
  },
  {
   "cell_type": "code",
   "execution_count": 34,
   "metadata": {},
   "outputs": [
    {
     "name": "stderr",
     "output_type": "stream",
     "text": [
      "C:\\Users\\asus\\AppData\\Local\\Temp\\ipykernel_33140\\152412463.py:1: FutureWarning: load_metric is deprecated and will be removed in the next major version of datasets. Use 'evaluate.load' instead, from the new library 🤗 Evaluate: https://huggingface.co/docs/evaluate\n",
      "  metric = load_metric(\"seqeval\")\n"
     ]
    }
   ],
   "source": [
    "metric = load_metric(\"seqeval\")"
   ]
  },
  {
   "cell_type": "code",
   "execution_count": 35,
   "metadata": {},
   "outputs": [],
   "source": [
    "return_entity_level_metrics = False\n",
    "\n",
    "def compute_metrics(p):\n",
    "    predictions, labels = p\n",
    "    predictions = np.argmax(predictions, axis=2)\n",
    "\n",
    "    # Remove ignored index (special tokens)\n",
    "    true_predictions = [\n",
    "        [label_list[p] for (p, l) in zip(prediction, label) if l != -100]\n",
    "        for prediction, label in zip(predictions, labels)\n",
    "    ]\n",
    "    true_labels = [\n",
    "        [label_list[l] for (p, l) in zip(prediction, label) if l != -100]\n",
    "        for prediction, label in zip(predictions, labels)\n",
    "    ]\n",
    "\n",
    "    results = metric.compute(predictions=true_predictions, references=true_labels)\n",
    "    if return_entity_level_metrics:\n",
    "        # Unpack nested dictionaries\n",
    "        final_results = {}\n",
    "        for key, value in results.items():\n",
    "            if isinstance(value, dict):\n",
    "                for n, v in value.items():\n",
    "                    final_results[f\"{key}_{n}\"] = v\n",
    "            else:\n",
    "                final_results[key] = value\n",
    "        return final_results\n",
    "    else:\n",
    "        return {\n",
    "            \"precision\": results[\"overall_precision\"],\n",
    "            \"recall\": results[\"overall_recall\"],\n",
    "            \"f1\": results[\"overall_f1\"],\n",
    "            \"accuracy\": results[\"overall_accuracy\"],\n",
    "        }"
   ]
  },
  {
   "cell_type": "code",
   "execution_count": 43,
   "metadata": {},
   "outputs": [
    {
     "name": "stderr",
     "output_type": "stream",
     "text": [
      "loading configuration file config.json from cache at C:\\Users\\asus/.cache\\huggingface\\hub\\models--microsoft--layoutlmv3-base\\snapshots\\07c9b0838ccc7b49f4c284ccc96113d1dc527ff4\\config.json\n",
      "Model config LayoutLMv3Config {\n",
      "  \"attention_probs_dropout_prob\": 0.1,\n",
      "  \"bos_token_id\": 0,\n",
      "  \"classifier_dropout\": null,\n",
      "  \"coordinate_size\": 128,\n",
      "  \"eos_token_id\": 2,\n",
      "  \"has_relative_attention_bias\": true,\n",
      "  \"has_spatial_attention_bias\": true,\n",
      "  \"hidden_act\": \"gelu\",\n",
      "  \"hidden_dropout_prob\": 0.1,\n",
      "  \"hidden_size\": 768,\n",
      "  \"id2label\": {\n",
      "    \"0\": \"Ignore\",\n",
      "    \"1\": \"Store_name_value\",\n",
      "    \"2\": \"Store_name_key\",\n",
      "    \"3\": \"Store_addr_value\",\n",
      "    \"4\": \"Store_addr_key\",\n",
      "    \"5\": \"Tel_value\",\n",
      "    \"6\": \"Tel_key\",\n",
      "    \"7\": \"Date_value\",\n",
      "    \"8\": \"Date_key\",\n",
      "    \"9\": \"Time_value\",\n",
      "    \"10\": \"Time_key\",\n",
      "    \"11\": \"Prod_item_value\",\n",
      "    \"12\": \"Prod_item_key\",\n",
      "    \"13\": \"Prod_quantity_value\",\n",
      "    \"14\": \"Prod_quantity_key\",\n",
      "    \"15\": \"Prod_price_value\",\n",
      "    \"16\": \"Prod_price_key\",\n",
      "    \"17\": \"Subtotal_value\",\n",
      "    \"18\": \"Subtotal_key\",\n",
      "    \"19\": \"Tax_value\",\n",
      "    \"20\": \"Tax_key\",\n",
      "    \"21\": \"Tips_value\",\n",
      "    \"22\": \"Tips_key\",\n",
      "    \"23\": \"Total_value\",\n",
      "    \"24\": \"Total_key\",\n",
      "    \"25\": \"Others\"\n",
      "  },\n",
      "  \"initializer_range\": 0.02,\n",
      "  \"input_size\": 224,\n",
      "  \"intermediate_size\": 3072,\n",
      "  \"label2id\": {\n",
      "    \"Date_key\": 8,\n",
      "    \"Date_value\": 7,\n",
      "    \"Ignore\": 0,\n",
      "    \"Others\": 25,\n",
      "    \"Prod_item_key\": 12,\n",
      "    \"Prod_item_value\": 11,\n",
      "    \"Prod_price_key\": 16,\n",
      "    \"Prod_price_value\": 15,\n",
      "    \"Prod_quantity_key\": 14,\n",
      "    \"Prod_quantity_value\": 13,\n",
      "    \"Store_addr_key\": 4,\n",
      "    \"Store_addr_value\": 3,\n",
      "    \"Store_name_key\": 2,\n",
      "    \"Store_name_value\": 1,\n",
      "    \"Subtotal_key\": 18,\n",
      "    \"Subtotal_value\": 17,\n",
      "    \"Tax_key\": 20,\n",
      "    \"Tax_value\": 19,\n",
      "    \"Tel_key\": 6,\n",
      "    \"Tel_value\": 5,\n",
      "    \"Time_key\": 10,\n",
      "    \"Time_value\": 9,\n",
      "    \"Tips_key\": 22,\n",
      "    \"Tips_value\": 21,\n",
      "    \"Total_key\": 24,\n",
      "    \"Total_value\": 23\n",
      "  },\n",
      "  \"layer_norm_eps\": 1e-05,\n",
      "  \"max_2d_position_embeddings\": 1024,\n",
      "  \"max_position_embeddings\": 514,\n",
      "  \"max_rel_2d_pos\": 256,\n",
      "  \"max_rel_pos\": 128,\n",
      "  \"model_type\": \"layoutlmv3\",\n",
      "  \"num_attention_heads\": 12,\n",
      "  \"num_channels\": 3,\n",
      "  \"num_hidden_layers\": 12,\n",
      "  \"pad_token_id\": 1,\n",
      "  \"patch_size\": 16,\n",
      "  \"rel_2d_pos_bins\": 64,\n",
      "  \"rel_pos_bins\": 32,\n",
      "  \"second_input_size\": 112,\n",
      "  \"shape_size\": 128,\n",
      "  \"text_embed\": true,\n",
      "  \"torch_dtype\": \"float32\",\n",
      "  \"transformers_version\": \"4.25.0.dev0\",\n",
      "  \"type_vocab_size\": 1,\n",
      "  \"visual_embed\": true,\n",
      "  \"vocab_size\": 50265\n",
      "}\n",
      "\n",
      "loading weights file pytorch_model.bin from cache at C:\\Users\\asus/.cache\\huggingface\\hub\\models--microsoft--layoutlmv3-base\\snapshots\\07c9b0838ccc7b49f4c284ccc96113d1dc527ff4\\pytorch_model.bin\n",
      "All model checkpoint weights were used when initializing LayoutLMv3ForTokenClassification.\n",
      "\n",
      "Some weights of LayoutLMv3ForTokenClassification were not initialized from the model checkpoint at microsoft/layoutlmv3-base and are newly initialized: ['classifier.dense.weight', 'classifier.out_proj.weight', 'classifier.out_proj.bias', 'classifier.dense.bias']\n",
      "You should probably TRAIN this model on a down-stream task to be able to use it for predictions and inference.\n"
     ]
    }
   ],
   "source": [
    "model = LayoutLMv3ForTokenClassification.from_pretrained(\"microsoft/layoutlmv3-base\",\n",
    "                                                         id2label=id2label,\n",
    "                                                         label2id=label2id)"
   ]
  },
  {
   "cell_type": "code",
   "execution_count": 47,
   "metadata": {},
   "outputs": [
    {
     "name": "stderr",
     "output_type": "stream",
     "text": [
      "PyTorch: setting up devices\n",
      "The default value for the training argument `--report_to` will change in v5 (from all installed integrations to none). In v5, you will need to use `--report_to all` to get the same behavior as now. You should start updating your code and make this info disappear :-).\n"
     ]
    }
   ],
   "source": [
    "# training_args = TrainingArguments(output_dir=\"Training_logs\",\n",
    "#                                   max_steps=5000,\n",
    "#                                   per_device_train_batch_size=5,\n",
    "#                                   per_device_eval_batch_size=5,\n",
    "#                                   learning_rate=1e-5,\n",
    "#                                   evaluation_strategy=\"steps\",\n",
    "#                                   save_strategy=\"steps\",\n",
    "#                                   load_best_model_at_end=True,\n",
    "#                                   metric_for_best_model=\"f1\",\n",
    "#                                   report_to=\"tensorboard\",\n",
    "#                                   )\n",
    "training_args = TrainingArguments(output_dir=\"Training_logs\",\n",
    "                                  num_train_epochs=2,\n",
    "                                  learning_rate=1e-5,\n",
    "                                  evaluation_strategy=\"epoch\",\n",
    "                                  save_strategy=\"epoch\",\n",
    "                                  load_best_model_at_end=True,\n",
    "                                  metric_for_best_model=\"f1\",\n",
    "                                  )"
   ]
  },
  {
   "cell_type": "code",
   "execution_count": 48,
   "metadata": {},
   "outputs": [],
   "source": [
    "trainer = Trainer(\n",
    "    model=model,\n",
    "    args=training_args,\n",
    "    train_dataset=train_dataset,\n",
    "    eval_dataset=eval_dataset,\n",
    "    tokenizer=processor,\n",
    "    data_collator=default_data_collator,\n",
    "    compute_metrics=compute_metrics,\n",
    ")"
   ]
  },
  {
   "cell_type": "code",
   "execution_count": 50,
   "metadata": {},
   "outputs": [
    {
     "name": "stderr",
     "output_type": "stream",
     "text": [
      "***** Running training *****\n",
      "  Num examples = 1267\n",
      "  Num Epochs = 2\n",
      "  Instantaneous batch size per device = 8\n",
      "  Total train batch size (w. parallel, distributed & accumulation) = 8\n",
      "  Gradient Accumulation steps = 1\n",
      "  Total optimization steps = 318\n",
      "  Number of trainable parameters = 125937562\n"
     ]
    },
    {
     "data": {
      "application/vnd.jupyter.widget-view+json": {
       "model_id": "afc445b42f7b4e938d96c522fa85b996",
       "version_major": 2,
       "version_minor": 0
      },
      "text/plain": [
       "  0%|          | 0/318 [00:00<?, ?it/s]"
      ]
     },
     "metadata": {},
     "output_type": "display_data"
    },
    {
     "name": "stderr",
     "output_type": "stream",
     "text": [
      "***** Running Evaluation *****\n",
      "  Num examples = 472\n",
      "  Batch size = 8\n"
     ]
    },
    {
     "data": {
      "application/vnd.jupyter.widget-view+json": {
       "model_id": "09895b26fd5c42f88398eb9397cea4c8",
       "version_major": 2,
       "version_minor": 0
      },
      "text/plain": [
       "  0%|          | 0/59 [00:00<?, ?it/s]"
      ]
     },
     "metadata": {},
     "output_type": "display_data"
    },
    {
     "name": "stderr",
     "output_type": "stream",
     "text": [
      "c:\\Users\\asus\\AppData\\Local\\Programs\\Python\\Python310\\lib\\site-packages\\seqeval\\metrics\\sequence_labeling.py:171: UserWarning: Store_name_value seems not to be NE tag.\n",
      "  warnings.warn('{} seems not to be NE tag.'.format(chunk))\n",
      "c:\\Users\\asus\\AppData\\Local\\Programs\\Python\\Python310\\lib\\site-packages\\seqeval\\metrics\\sequence_labeling.py:171: UserWarning: Store_addr_value seems not to be NE tag.\n",
      "  warnings.warn('{} seems not to be NE tag.'.format(chunk))\n",
      "c:\\Users\\asus\\AppData\\Local\\Programs\\Python\\Python310\\lib\\site-packages\\seqeval\\metrics\\sequence_labeling.py:171: UserWarning: Tel_value seems not to be NE tag.\n",
      "  warnings.warn('{} seems not to be NE tag.'.format(chunk))\n",
      "c:\\Users\\asus\\AppData\\Local\\Programs\\Python\\Python310\\lib\\site-packages\\seqeval\\metrics\\sequence_labeling.py:171: UserWarning: Others seems not to be NE tag.\n",
      "  warnings.warn('{} seems not to be NE tag.'.format(chunk))\n",
      "c:\\Users\\asus\\AppData\\Local\\Programs\\Python\\Python310\\lib\\site-packages\\seqeval\\metrics\\sequence_labeling.py:171: UserWarning: Date_key seems not to be NE tag.\n",
      "  warnings.warn('{} seems not to be NE tag.'.format(chunk))\n",
      "c:\\Users\\asus\\AppData\\Local\\Programs\\Python\\Python310\\lib\\site-packages\\seqeval\\metrics\\sequence_labeling.py:171: UserWarning: Date_value seems not to be NE tag.\n",
      "  warnings.warn('{} seems not to be NE tag.'.format(chunk))\n",
      "c:\\Users\\asus\\AppData\\Local\\Programs\\Python\\Python310\\lib\\site-packages\\seqeval\\metrics\\sequence_labeling.py:171: UserWarning: Time_value seems not to be NE tag.\n",
      "  warnings.warn('{} seems not to be NE tag.'.format(chunk))\n",
      "c:\\Users\\asus\\AppData\\Local\\Programs\\Python\\Python310\\lib\\site-packages\\seqeval\\metrics\\sequence_labeling.py:171: UserWarning: Prod_item_value seems not to be NE tag.\n",
      "  warnings.warn('{} seems not to be NE tag.'.format(chunk))\n",
      "c:\\Users\\asus\\AppData\\Local\\Programs\\Python\\Python310\\lib\\site-packages\\seqeval\\metrics\\sequence_labeling.py:171: UserWarning: Prod_price_value seems not to be NE tag.\n",
      "  warnings.warn('{} seems not to be NE tag.'.format(chunk))\n",
      "c:\\Users\\asus\\AppData\\Local\\Programs\\Python\\Python310\\lib\\site-packages\\seqeval\\metrics\\sequence_labeling.py:171: UserWarning: Prod_item_key seems not to be NE tag.\n",
      "  warnings.warn('{} seems not to be NE tag.'.format(chunk))\n",
      "c:\\Users\\asus\\AppData\\Local\\Programs\\Python\\Python310\\lib\\site-packages\\seqeval\\metrics\\sequence_labeling.py:171: UserWarning: Subtotal_key seems not to be NE tag.\n",
      "  warnings.warn('{} seems not to be NE tag.'.format(chunk))\n",
      "c:\\Users\\asus\\AppData\\Local\\Programs\\Python\\Python310\\lib\\site-packages\\seqeval\\metrics\\sequence_labeling.py:171: UserWarning: Tax_key seems not to be NE tag.\n",
      "  warnings.warn('{} seems not to be NE tag.'.format(chunk))\n",
      "c:\\Users\\asus\\AppData\\Local\\Programs\\Python\\Python310\\lib\\site-packages\\seqeval\\metrics\\sequence_labeling.py:171: UserWarning: Total_key seems not to be NE tag.\n",
      "  warnings.warn('{} seems not to be NE tag.'.format(chunk))\n",
      "c:\\Users\\asus\\AppData\\Local\\Programs\\Python\\Python310\\lib\\site-packages\\seqeval\\metrics\\sequence_labeling.py:171: UserWarning: Subtotal_value seems not to be NE tag.\n",
      "  warnings.warn('{} seems not to be NE tag.'.format(chunk))\n",
      "c:\\Users\\asus\\AppData\\Local\\Programs\\Python\\Python310\\lib\\site-packages\\seqeval\\metrics\\sequence_labeling.py:171: UserWarning: Tax_value seems not to be NE tag.\n",
      "  warnings.warn('{} seems not to be NE tag.'.format(chunk))\n",
      "c:\\Users\\asus\\AppData\\Local\\Programs\\Python\\Python310\\lib\\site-packages\\seqeval\\metrics\\sequence_labeling.py:171: UserWarning: Total_value seems not to be NE tag.\n",
      "  warnings.warn('{} seems not to be NE tag.'.format(chunk))\n",
      "c:\\Users\\asus\\AppData\\Local\\Programs\\Python\\Python310\\lib\\site-packages\\seqeval\\metrics\\sequence_labeling.py:171: UserWarning: Time_key seems not to be NE tag.\n",
      "  warnings.warn('{} seems not to be NE tag.'.format(chunk))\n",
      "c:\\Users\\asus\\AppData\\Local\\Programs\\Python\\Python310\\lib\\site-packages\\seqeval\\metrics\\sequence_labeling.py:171: UserWarning: Tel_key seems not to be NE tag.\n",
      "  warnings.warn('{} seems not to be NE tag.'.format(chunk))\n",
      "c:\\Users\\asus\\AppData\\Local\\Programs\\Python\\Python310\\lib\\site-packages\\seqeval\\metrics\\sequence_labeling.py:171: UserWarning: Prod_quantity_value seems not to be NE tag.\n",
      "  warnings.warn('{} seems not to be NE tag.'.format(chunk))\n",
      "c:\\Users\\asus\\AppData\\Local\\Programs\\Python\\Python310\\lib\\site-packages\\seqeval\\metrics\\sequence_labeling.py:171: UserWarning: Prod_quantity_key seems not to be NE tag.\n",
      "  warnings.warn('{} seems not to be NE tag.'.format(chunk))\n",
      "c:\\Users\\asus\\AppData\\Local\\Programs\\Python\\Python310\\lib\\site-packages\\seqeval\\metrics\\sequence_labeling.py:171: UserWarning: Prod_price_key seems not to be NE tag.\n",
      "  warnings.warn('{} seems not to be NE tag.'.format(chunk))\n",
      "c:\\Users\\asus\\AppData\\Local\\Programs\\Python\\Python310\\lib\\site-packages\\seqeval\\metrics\\sequence_labeling.py:171: UserWarning: Ignore seems not to be NE tag.\n",
      "  warnings.warn('{} seems not to be NE tag.'.format(chunk))\n",
      "c:\\Users\\asus\\AppData\\Local\\Programs\\Python\\Python310\\lib\\site-packages\\seqeval\\metrics\\sequence_labeling.py:171: UserWarning: Tips_value seems not to be NE tag.\n",
      "  warnings.warn('{} seems not to be NE tag.'.format(chunk))\n",
      "c:\\Users\\asus\\AppData\\Local\\Programs\\Python\\Python310\\lib\\site-packages\\seqeval\\metrics\\sequence_labeling.py:171: UserWarning: Tips_key seems not to be NE tag.\n",
      "  warnings.warn('{} seems not to be NE tag.'.format(chunk))\n",
      "c:\\Users\\asus\\AppData\\Local\\Programs\\Python\\Python310\\lib\\site-packages\\seqeval\\metrics\\v1.py:57: UndefinedMetricWarning: Precision and F-score are ill-defined and being set to 0.0 in labels with no predicted samples. Use `zero_division` parameter to control this behavior.\n",
      "  _warn_prf(average, modifier, msg_start, len(result))\n",
      "Saving model checkpoint to Training_logs\\checkpoint-159\n",
      "Configuration saved in Training_logs\\checkpoint-159\\config.json\n"
     ]
    },
    {
     "name": "stdout",
     "output_type": "stream",
     "text": [
      "{'eval_loss': 1.0464595556259155, 'eval_precision': 0.6024344569288389, 'eval_recall': 0.4426861153158112, 'eval_f1': 0.510351392083763, 'eval_accuracy': 0.7425139848634419, 'eval_runtime': 1202.5223, 'eval_samples_per_second': 0.393, 'eval_steps_per_second': 0.049, 'epoch': 1.0}\n"
     ]
    },
    {
     "name": "stderr",
     "output_type": "stream",
     "text": [
      "Model weights saved in Training_logs\\checkpoint-159\\pytorch_model.bin\n",
      "Image processor saved in Training_logs\\checkpoint-159\\preprocessor_config.json\n",
      "tokenizer config file saved in Training_logs\\checkpoint-159\\tokenizer_config.json\n",
      "Special tokens file saved in Training_logs\\checkpoint-159\\special_tokens_map.json\n",
      "c:\\Users\\asus\\AppData\\Local\\Programs\\Python\\Python310\\lib\\site-packages\\transformers\\modeling_utils.py:763: FutureWarning: The `device` argument is deprecated and will be removed in v5 of Transformers.\n",
      "  warnings.warn(\n",
      "***** Running Evaluation *****\n",
      "  Num examples = 472\n",
      "  Batch size = 8\n"
     ]
    },
    {
     "data": {
      "application/vnd.jupyter.widget-view+json": {
       "model_id": "d0ec63868ec14912bee6c20030acf906",
       "version_major": 2,
       "version_minor": 0
      },
      "text/plain": [
       "  0%|          | 0/59 [00:00<?, ?it/s]"
      ]
     },
     "metadata": {},
     "output_type": "display_data"
    },
    {
     "name": "stderr",
     "output_type": "stream",
     "text": [
      "c:\\Users\\asus\\AppData\\Local\\Programs\\Python\\Python310\\lib\\site-packages\\seqeval\\metrics\\sequence_labeling.py:171: UserWarning: Store_name_value seems not to be NE tag.\n",
      "  warnings.warn('{} seems not to be NE tag.'.format(chunk))\n",
      "c:\\Users\\asus\\AppData\\Local\\Programs\\Python\\Python310\\lib\\site-packages\\seqeval\\metrics\\sequence_labeling.py:171: UserWarning: Store_addr_value seems not to be NE tag.\n",
      "  warnings.warn('{} seems not to be NE tag.'.format(chunk))\n",
      "c:\\Users\\asus\\AppData\\Local\\Programs\\Python\\Python310\\lib\\site-packages\\seqeval\\metrics\\sequence_labeling.py:171: UserWarning: Tel_value seems not to be NE tag.\n",
      "  warnings.warn('{} seems not to be NE tag.'.format(chunk))\n",
      "c:\\Users\\asus\\AppData\\Local\\Programs\\Python\\Python310\\lib\\site-packages\\seqeval\\metrics\\sequence_labeling.py:171: UserWarning: Others seems not to be NE tag.\n",
      "  warnings.warn('{} seems not to be NE tag.'.format(chunk))\n",
      "c:\\Users\\asus\\AppData\\Local\\Programs\\Python\\Python310\\lib\\site-packages\\seqeval\\metrics\\sequence_labeling.py:171: UserWarning: Date_key seems not to be NE tag.\n",
      "  warnings.warn('{} seems not to be NE tag.'.format(chunk))\n",
      "c:\\Users\\asus\\AppData\\Local\\Programs\\Python\\Python310\\lib\\site-packages\\seqeval\\metrics\\sequence_labeling.py:171: UserWarning: Date_value seems not to be NE tag.\n",
      "  warnings.warn('{} seems not to be NE tag.'.format(chunk))\n",
      "c:\\Users\\asus\\AppData\\Local\\Programs\\Python\\Python310\\lib\\site-packages\\seqeval\\metrics\\sequence_labeling.py:171: UserWarning: Time_value seems not to be NE tag.\n",
      "  warnings.warn('{} seems not to be NE tag.'.format(chunk))\n",
      "c:\\Users\\asus\\AppData\\Local\\Programs\\Python\\Python310\\lib\\site-packages\\seqeval\\metrics\\sequence_labeling.py:171: UserWarning: Prod_item_value seems not to be NE tag.\n",
      "  warnings.warn('{} seems not to be NE tag.'.format(chunk))\n",
      "c:\\Users\\asus\\AppData\\Local\\Programs\\Python\\Python310\\lib\\site-packages\\seqeval\\metrics\\sequence_labeling.py:171: UserWarning: Prod_price_value seems not to be NE tag.\n",
      "  warnings.warn('{} seems not to be NE tag.'.format(chunk))\n",
      "c:\\Users\\asus\\AppData\\Local\\Programs\\Python\\Python310\\lib\\site-packages\\seqeval\\metrics\\sequence_labeling.py:171: UserWarning: Prod_item_key seems not to be NE tag.\n",
      "  warnings.warn('{} seems not to be NE tag.'.format(chunk))\n",
      "c:\\Users\\asus\\AppData\\Local\\Programs\\Python\\Python310\\lib\\site-packages\\seqeval\\metrics\\sequence_labeling.py:171: UserWarning: Subtotal_key seems not to be NE tag.\n",
      "  warnings.warn('{} seems not to be NE tag.'.format(chunk))\n",
      "c:\\Users\\asus\\AppData\\Local\\Programs\\Python\\Python310\\lib\\site-packages\\seqeval\\metrics\\sequence_labeling.py:171: UserWarning: Tax_key seems not to be NE tag.\n",
      "  warnings.warn('{} seems not to be NE tag.'.format(chunk))\n",
      "c:\\Users\\asus\\AppData\\Local\\Programs\\Python\\Python310\\lib\\site-packages\\seqeval\\metrics\\sequence_labeling.py:171: UserWarning: Total_key seems not to be NE tag.\n",
      "  warnings.warn('{} seems not to be NE tag.'.format(chunk))\n",
      "c:\\Users\\asus\\AppData\\Local\\Programs\\Python\\Python310\\lib\\site-packages\\seqeval\\metrics\\sequence_labeling.py:171: UserWarning: Subtotal_value seems not to be NE tag.\n",
      "  warnings.warn('{} seems not to be NE tag.'.format(chunk))\n",
      "c:\\Users\\asus\\AppData\\Local\\Programs\\Python\\Python310\\lib\\site-packages\\seqeval\\metrics\\sequence_labeling.py:171: UserWarning: Tax_value seems not to be NE tag.\n",
      "  warnings.warn('{} seems not to be NE tag.'.format(chunk))\n",
      "c:\\Users\\asus\\AppData\\Local\\Programs\\Python\\Python310\\lib\\site-packages\\seqeval\\metrics\\sequence_labeling.py:171: UserWarning: Total_value seems not to be NE tag.\n",
      "  warnings.warn('{} seems not to be NE tag.'.format(chunk))\n",
      "c:\\Users\\asus\\AppData\\Local\\Programs\\Python\\Python310\\lib\\site-packages\\seqeval\\metrics\\sequence_labeling.py:171: UserWarning: Time_key seems not to be NE tag.\n",
      "  warnings.warn('{} seems not to be NE tag.'.format(chunk))\n",
      "c:\\Users\\asus\\AppData\\Local\\Programs\\Python\\Python310\\lib\\site-packages\\seqeval\\metrics\\sequence_labeling.py:171: UserWarning: Tel_key seems not to be NE tag.\n",
      "  warnings.warn('{} seems not to be NE tag.'.format(chunk))\n",
      "c:\\Users\\asus\\AppData\\Local\\Programs\\Python\\Python310\\lib\\site-packages\\seqeval\\metrics\\sequence_labeling.py:171: UserWarning: Prod_quantity_value seems not to be NE tag.\n",
      "  warnings.warn('{} seems not to be NE tag.'.format(chunk))\n",
      "c:\\Users\\asus\\AppData\\Local\\Programs\\Python\\Python310\\lib\\site-packages\\seqeval\\metrics\\sequence_labeling.py:171: UserWarning: Prod_quantity_key seems not to be NE tag.\n",
      "  warnings.warn('{} seems not to be NE tag.'.format(chunk))\n",
      "c:\\Users\\asus\\AppData\\Local\\Programs\\Python\\Python310\\lib\\site-packages\\seqeval\\metrics\\sequence_labeling.py:171: UserWarning: Prod_price_key seems not to be NE tag.\n",
      "  warnings.warn('{} seems not to be NE tag.'.format(chunk))\n",
      "c:\\Users\\asus\\AppData\\Local\\Programs\\Python\\Python310\\lib\\site-packages\\seqeval\\metrics\\sequence_labeling.py:171: UserWarning: Ignore seems not to be NE tag.\n",
      "  warnings.warn('{} seems not to be NE tag.'.format(chunk))\n",
      "c:\\Users\\asus\\AppData\\Local\\Programs\\Python\\Python310\\lib\\site-packages\\seqeval\\metrics\\sequence_labeling.py:171: UserWarning: Tips_value seems not to be NE tag.\n",
      "  warnings.warn('{} seems not to be NE tag.'.format(chunk))\n",
      "c:\\Users\\asus\\AppData\\Local\\Programs\\Python\\Python310\\lib\\site-packages\\seqeval\\metrics\\sequence_labeling.py:171: UserWarning: Tips_key seems not to be NE tag.\n",
      "  warnings.warn('{} seems not to be NE tag.'.format(chunk))\n",
      "c:\\Users\\asus\\AppData\\Local\\Programs\\Python\\Python310\\lib\\site-packages\\seqeval\\metrics\\v1.py:57: UndefinedMetricWarning: Precision and F-score are ill-defined and being set to 0.0 in labels with no predicted samples. Use `zero_division` parameter to control this behavior.\n",
      "  _warn_prf(average, modifier, msg_start, len(result))\n",
      "Saving model checkpoint to Training_logs\\checkpoint-318\n",
      "Configuration saved in Training_logs\\checkpoint-318\\config.json\n"
     ]
    },
    {
     "name": "stdout",
     "output_type": "stream",
     "text": [
      "{'eval_loss': 0.8546625971794128, 'eval_precision': 0.6541141340411414, 'eval_recall': 0.5425897894591991, 'eval_f1': 0.5931553215494547, 'eval_accuracy': 0.7860590106394647, 'eval_runtime': 1117.4816, 'eval_samples_per_second': 0.422, 'eval_steps_per_second': 0.053, 'epoch': 2.0}\n"
     ]
    },
    {
     "name": "stderr",
     "output_type": "stream",
     "text": [
      "Model weights saved in Training_logs\\checkpoint-318\\pytorch_model.bin\n",
      "Image processor saved in Training_logs\\checkpoint-318\\preprocessor_config.json\n",
      "tokenizer config file saved in Training_logs\\checkpoint-318\\tokenizer_config.json\n",
      "Special tokens file saved in Training_logs\\checkpoint-318\\special_tokens_map.json\n",
      "\n",
      "\n",
      "Training completed. Do not forget to share your model on huggingface.co/models =)\n",
      "\n",
      "\n",
      "Loading best model from Training_logs\\checkpoint-318 (score: 0.5931553215494547).\n"
     ]
    },
    {
     "name": "stdout",
     "output_type": "stream",
     "text": [
      "{'train_runtime': 18491.6521, 'train_samples_per_second': 0.137, 'train_steps_per_second': 0.017, 'train_loss': 1.3127284979670302, 'epoch': 2.0}\n"
     ]
    },
    {
     "data": {
      "text/plain": [
       "TrainOutput(global_step=318, training_loss=1.3127284979670302, metrics={'train_runtime': 18491.6521, 'train_samples_per_second': 0.137, 'train_steps_per_second': 0.017, 'train_loss': 1.3127284979670302, 'epoch': 2.0})"
      ]
     },
     "execution_count": 50,
     "metadata": {},
     "output_type": "execute_result"
    }
   ],
   "source": [
    "trainer.train()"
   ]
  },
  {
   "cell_type": "code",
   "execution_count": 51,
   "metadata": {},
   "outputs": [
    {
     "name": "stderr",
     "output_type": "stream",
     "text": [
      "UsageError: Line magic function `%tensorboard` not found.\n"
     ]
    }
   ],
   "source": [
    "%tensorboard --logdir Training_logs"
   ]
  },
  {
   "cell_type": "code",
   "execution_count": 52,
   "metadata": {},
   "outputs": [
    {
     "name": "stderr",
     "output_type": "stream",
     "text": [
      "***** Running Evaluation *****\n",
      "  Num examples = 472\n",
      "  Batch size = 8\n",
      "c:\\Users\\asus\\AppData\\Local\\Programs\\Python\\Python310\\lib\\site-packages\\transformers\\modeling_utils.py:763: FutureWarning: The `device` argument is deprecated and will be removed in v5 of Transformers.\n",
      "  warnings.warn(\n"
     ]
    },
    {
     "data": {
      "application/vnd.jupyter.widget-view+json": {
       "model_id": "1f6731b7165845c7bb73fa085e069918",
       "version_major": 2,
       "version_minor": 0
      },
      "text/plain": [
       "  0%|          | 0/59 [00:00<?, ?it/s]"
      ]
     },
     "metadata": {},
     "output_type": "display_data"
    },
    {
     "name": "stderr",
     "output_type": "stream",
     "text": [
      "c:\\Users\\asus\\AppData\\Local\\Programs\\Python\\Python310\\lib\\site-packages\\seqeval\\metrics\\sequence_labeling.py:171: UserWarning: Store_name_value seems not to be NE tag.\n",
      "  warnings.warn('{} seems not to be NE tag.'.format(chunk))\n",
      "c:\\Users\\asus\\AppData\\Local\\Programs\\Python\\Python310\\lib\\site-packages\\seqeval\\metrics\\sequence_labeling.py:171: UserWarning: Store_addr_value seems not to be NE tag.\n",
      "  warnings.warn('{} seems not to be NE tag.'.format(chunk))\n",
      "c:\\Users\\asus\\AppData\\Local\\Programs\\Python\\Python310\\lib\\site-packages\\seqeval\\metrics\\sequence_labeling.py:171: UserWarning: Tel_value seems not to be NE tag.\n",
      "  warnings.warn('{} seems not to be NE tag.'.format(chunk))\n",
      "c:\\Users\\asus\\AppData\\Local\\Programs\\Python\\Python310\\lib\\site-packages\\seqeval\\metrics\\sequence_labeling.py:171: UserWarning: Others seems not to be NE tag.\n",
      "  warnings.warn('{} seems not to be NE tag.'.format(chunk))\n",
      "c:\\Users\\asus\\AppData\\Local\\Programs\\Python\\Python310\\lib\\site-packages\\seqeval\\metrics\\sequence_labeling.py:171: UserWarning: Date_key seems not to be NE tag.\n",
      "  warnings.warn('{} seems not to be NE tag.'.format(chunk))\n",
      "c:\\Users\\asus\\AppData\\Local\\Programs\\Python\\Python310\\lib\\site-packages\\seqeval\\metrics\\sequence_labeling.py:171: UserWarning: Date_value seems not to be NE tag.\n",
      "  warnings.warn('{} seems not to be NE tag.'.format(chunk))\n",
      "c:\\Users\\asus\\AppData\\Local\\Programs\\Python\\Python310\\lib\\site-packages\\seqeval\\metrics\\sequence_labeling.py:171: UserWarning: Time_value seems not to be NE tag.\n",
      "  warnings.warn('{} seems not to be NE tag.'.format(chunk))\n",
      "c:\\Users\\asus\\AppData\\Local\\Programs\\Python\\Python310\\lib\\site-packages\\seqeval\\metrics\\sequence_labeling.py:171: UserWarning: Prod_item_value seems not to be NE tag.\n",
      "  warnings.warn('{} seems not to be NE tag.'.format(chunk))\n",
      "c:\\Users\\asus\\AppData\\Local\\Programs\\Python\\Python310\\lib\\site-packages\\seqeval\\metrics\\sequence_labeling.py:171: UserWarning: Prod_price_value seems not to be NE tag.\n",
      "  warnings.warn('{} seems not to be NE tag.'.format(chunk))\n",
      "c:\\Users\\asus\\AppData\\Local\\Programs\\Python\\Python310\\lib\\site-packages\\seqeval\\metrics\\sequence_labeling.py:171: UserWarning: Prod_item_key seems not to be NE tag.\n",
      "  warnings.warn('{} seems not to be NE tag.'.format(chunk))\n",
      "c:\\Users\\asus\\AppData\\Local\\Programs\\Python\\Python310\\lib\\site-packages\\seqeval\\metrics\\sequence_labeling.py:171: UserWarning: Subtotal_key seems not to be NE tag.\n",
      "  warnings.warn('{} seems not to be NE tag.'.format(chunk))\n",
      "c:\\Users\\asus\\AppData\\Local\\Programs\\Python\\Python310\\lib\\site-packages\\seqeval\\metrics\\sequence_labeling.py:171: UserWarning: Tax_key seems not to be NE tag.\n",
      "  warnings.warn('{} seems not to be NE tag.'.format(chunk))\n",
      "c:\\Users\\asus\\AppData\\Local\\Programs\\Python\\Python310\\lib\\site-packages\\seqeval\\metrics\\sequence_labeling.py:171: UserWarning: Total_key seems not to be NE tag.\n",
      "  warnings.warn('{} seems not to be NE tag.'.format(chunk))\n",
      "c:\\Users\\asus\\AppData\\Local\\Programs\\Python\\Python310\\lib\\site-packages\\seqeval\\metrics\\sequence_labeling.py:171: UserWarning: Subtotal_value seems not to be NE tag.\n",
      "  warnings.warn('{} seems not to be NE tag.'.format(chunk))\n",
      "c:\\Users\\asus\\AppData\\Local\\Programs\\Python\\Python310\\lib\\site-packages\\seqeval\\metrics\\sequence_labeling.py:171: UserWarning: Tax_value seems not to be NE tag.\n",
      "  warnings.warn('{} seems not to be NE tag.'.format(chunk))\n",
      "c:\\Users\\asus\\AppData\\Local\\Programs\\Python\\Python310\\lib\\site-packages\\seqeval\\metrics\\sequence_labeling.py:171: UserWarning: Total_value seems not to be NE tag.\n",
      "  warnings.warn('{} seems not to be NE tag.'.format(chunk))\n",
      "c:\\Users\\asus\\AppData\\Local\\Programs\\Python\\Python310\\lib\\site-packages\\seqeval\\metrics\\sequence_labeling.py:171: UserWarning: Time_key seems not to be NE tag.\n",
      "  warnings.warn('{} seems not to be NE tag.'.format(chunk))\n",
      "c:\\Users\\asus\\AppData\\Local\\Programs\\Python\\Python310\\lib\\site-packages\\seqeval\\metrics\\sequence_labeling.py:171: UserWarning: Tel_key seems not to be NE tag.\n",
      "  warnings.warn('{} seems not to be NE tag.'.format(chunk))\n",
      "c:\\Users\\asus\\AppData\\Local\\Programs\\Python\\Python310\\lib\\site-packages\\seqeval\\metrics\\sequence_labeling.py:171: UserWarning: Prod_quantity_value seems not to be NE tag.\n",
      "  warnings.warn('{} seems not to be NE tag.'.format(chunk))\n",
      "c:\\Users\\asus\\AppData\\Local\\Programs\\Python\\Python310\\lib\\site-packages\\seqeval\\metrics\\sequence_labeling.py:171: UserWarning: Prod_quantity_key seems not to be NE tag.\n",
      "  warnings.warn('{} seems not to be NE tag.'.format(chunk))\n",
      "c:\\Users\\asus\\AppData\\Local\\Programs\\Python\\Python310\\lib\\site-packages\\seqeval\\metrics\\sequence_labeling.py:171: UserWarning: Prod_price_key seems not to be NE tag.\n",
      "  warnings.warn('{} seems not to be NE tag.'.format(chunk))\n",
      "c:\\Users\\asus\\AppData\\Local\\Programs\\Python\\Python310\\lib\\site-packages\\seqeval\\metrics\\sequence_labeling.py:171: UserWarning: Ignore seems not to be NE tag.\n",
      "  warnings.warn('{} seems not to be NE tag.'.format(chunk))\n",
      "c:\\Users\\asus\\AppData\\Local\\Programs\\Python\\Python310\\lib\\site-packages\\seqeval\\metrics\\sequence_labeling.py:171: UserWarning: Tips_value seems not to be NE tag.\n",
      "  warnings.warn('{} seems not to be NE tag.'.format(chunk))\n",
      "c:\\Users\\asus\\AppData\\Local\\Programs\\Python\\Python310\\lib\\site-packages\\seqeval\\metrics\\sequence_labeling.py:171: UserWarning: Tips_key seems not to be NE tag.\n",
      "  warnings.warn('{} seems not to be NE tag.'.format(chunk))\n",
      "c:\\Users\\asus\\AppData\\Local\\Programs\\Python\\Python310\\lib\\site-packages\\seqeval\\metrics\\v1.py:57: UndefinedMetricWarning: Precision and F-score are ill-defined and being set to 0.0 in labels with no predicted samples. Use `zero_division` parameter to control this behavior.\n",
      "  _warn_prf(average, modifier, msg_start, len(result))\n"
     ]
    },
    {
     "data": {
      "text/plain": [
       "{'eval_loss': 0.8546625971794128,\n",
       " 'eval_precision': 0.6541141340411414,\n",
       " 'eval_recall': 0.5425897894591991,\n",
       " 'eval_f1': 0.5931553215494547,\n",
       " 'eval_accuracy': 0.7860590106394647,\n",
       " 'eval_runtime': 1041.5504,\n",
       " 'eval_samples_per_second': 0.453,\n",
       " 'eval_steps_per_second': 0.057,\n",
       " 'epoch': 2.0}"
      ]
     },
     "execution_count": 52,
     "metadata": {},
     "output_type": "execute_result"
    }
   ],
   "source": [
    "trainer.evaluate()"
   ]
  },
  {
   "cell_type": "code",
   "execution_count": 53,
   "metadata": {},
   "outputs": [
    {
     "name": "stderr",
     "output_type": "stream",
     "text": [
      "Saving model checkpoint to Saved_model/my_model\n",
      "Configuration saved in Saved_model/my_model\\config.json\n",
      "Model weights saved in Saved_model/my_model\\pytorch_model.bin\n",
      "Image processor saved in Saved_model/my_model\\preprocessor_config.json\n",
      "tokenizer config file saved in Saved_model/my_model\\tokenizer_config.json\n",
      "Special tokens file saved in Saved_model/my_model\\special_tokens_map.json\n"
     ]
    }
   ],
   "source": [
    "trainer.save_model(\"Saved_model/my_model\")"
   ]
  },
  {
   "cell_type": "code",
   "execution_count": null,
   "metadata": {},
   "outputs": [],
   "source": [
    "trainer.push_to_hub()"
   ]
  },
  {
   "cell_type": "markdown",
   "metadata": {},
   "source": [
    "## Inference"
   ]
  },
  {
   "cell_type": "code",
   "execution_count": 11,
   "metadata": {},
   "outputs": [],
   "source": [
    "model = AutoModelForTokenClassification.from_pretrained(\"Theivaprakasham/layoutlmv3-finetuned-wildreceipt\")"
   ]
  },
  {
   "cell_type": "code",
   "execution_count": 12,
   "metadata": {},
   "outputs": [],
   "source": [
    "with open(os.path.join(DIR,'annotation.json')) as f:\n",
    "    data = json.load(f)\n"
   ]
  },
  {
   "cell_type": "code",
   "execution_count": 13,
   "metadata": {},
   "outputs": [],
   "source": [
    "inf_path, inf_words, inf_bboxes = data[0]['file_name'],data[0][\"words\"], data[0][\"bboxes\"]"
   ]
  },
  {
   "cell_type": "code",
   "execution_count": 15,
   "metadata": {},
   "outputs": [
    {
     "name": "stdout",
     "output_type": "stream",
     "text": [
      "input_ids torch.Size([1, 222])\n",
      "attention_mask torch.Size([1, 222])\n",
      "bbox torch.Size([1, 222, 4])\n",
      "pixel_values torch.Size([1, 3, 224, 224])\n"
     ]
    },
    {
     "name": "stderr",
     "output_type": "stream",
     "text": [
      "c:\\Users\\asus\\AppData\\Local\\Programs\\Python\\Python310\\lib\\site-packages\\transformers\\modeling_utils.py:763: FutureWarning: The `device` argument is deprecated and will be removed in v5 of Transformers.\n",
      "  warnings.warn(\n"
     ]
    },
    {
     "name": "stdout",
     "output_type": "stream",
     "text": [
      "torch.Size([1, 222, 26])\n",
      "[25, 25, 25, 25, 25, 25, 25, 25, 25, 3, 3, 6, 6, 25, 25, 25, 25, 7, 7, 7, 7, 7, 9, 9, 9, 9, 9, 25, 25, 25, 25, 25, 25, 25, 25, 25, 25, 25, 25, 25, 25, 25, 25, 25, 25, 11, 11, 11, 11, 11, 11, 25, 13, 25, 25, 25, 25, 25, 25, 11, 11, 11, 11, 11, 25, 25, 13, 25, 25, 25, 25, 25, 25, 11, 11, 11, 11, 11, 11, 11, 11, 11, 11, 11, 13, 25, 25, 25, 25, 25, 25, 11, 11, 11, 11, 11, 11, 11, 13, 25, 25, 25, 25, 25, 25, 25, 25, 25, 25, 25, 13, 13, 24, 25, 25, 25, 25, 25, 25, 25, 25, 25, 25, 25, 25, 25, 25, 25, 25, 25, 25, 25, 25, 25, 19, 19, 19, 19, 15, 15, 15, 15, 15, 15, 15, 15, 15, 23, 23, 23, 23, 25, 25, 25, 25, 25, 25, 11, 11, 11, 11, 11, 11, 11, 11, 11, 11, 11, 11, 11, 11, 11, 11, 11, 25, 11, 11, 11, 11, 11, 11, 11, 11, 11, 11, 11, 11, 11, 11, 11, 11, 11, 25, 11, 11, 11, 11, 11, 11, 11, 11, 11, 11, 11, 11, 11, 11, 11, 11, 11, 11, 11, 11, 11, 11, 11, 11, 11, 11, 11, 11, 25]\n"
     ]
    }
   ],
   "source": [
    "images = cv2.cvtColor(cv2.imread(os.path.join(DIR,'Nota_Segmented',inf_path)), cv2.COLOR_BGR2RGB)\n",
    "# images = Image.open(os.path.join(DIR,'Nota_Segmented',inf_path)).convert(\"RGB\") #Image.open(examples[image_column_name])\n",
    "words = inf_words\n",
    "boxes = inf_bboxes\n",
    "encoding = processor(images, words, boxes=boxes, return_tensors=\"pt\",truncation=True,padding=True)\n",
    "\n",
    "for k,v in encoding.items():\n",
    "  print(k,v.shape)\n",
    "\n",
    "with torch.no_grad():\n",
    "  outputs = model(**encoding)\n",
    "\n",
    "logits = outputs.logits\n",
    "print(logits.shape)\n",
    "\n",
    "predictions = logits.argmax(-1).squeeze().tolist()\n",
    "print(predictions)"
   ]
  },
  {
   "cell_type": "code",
   "execution_count": 16,
   "metadata": {},
   "outputs": [],
   "source": [
    "def fix_box(bbox, size):\n",
    "    return [\n",
    "        int(bbox[0] * size[1] / 1000),\n",
    "        int(bbox[1] * size[0] / 1000),\n",
    "        int(bbox[2] * size[1] / 1000),\n",
    "        int(bbox[3] * size[0] / 1000),\n",
    "    ]"
   ]
  },
  {
   "cell_type": "code",
   "execution_count": 17,
   "metadata": {},
   "outputs": [],
   "source": [
    "token_boxes = encoding.bbox.squeeze().tolist()\n",
    "\n",
    "true_predictions = [model.config.id2label[pred] for pred in predictions]\n",
    "true_boxes = [fix_box(box, images.shape) for box in token_boxes]"
   ]
  },
  {
   "cell_type": "code",
   "execution_count": 18,
   "metadata": {},
   "outputs": [],
   "source": [
    "image_pil = Image.fromarray(images)\n",
    "draw = ImageDraw.Draw(image_pil)\n",
    "\n",
    "font = ImageFont.load_default()\n",
    "\n",
    "def iob_to_label(label):\n",
    "    #label = label[2:]\n",
    "    if not label:\n",
    "      return 'other'\n",
    "    return label\n",
    "\n",
    "label2color = {\n",
    "    \"Date_key\": 'red',\n",
    "    \"Date_value\": 'blue',\n",
    "    \"Ignore\": 'orange',\n",
    "    \"Others\": 'orange',\n",
    "    \"Prod_item_key\": 'red',\n",
    "    \"Prod_item_value\": 'green',\n",
    "    \"Prod_price_key\": 'red',\n",
    "    \"Prod_price_value\": 'blue',\n",
    "    \"Prod_quantity_key\": 'red',\n",
    "    \"Prod_quantity_value\": 'green',\n",
    "    \"Store_addr_key\": 'red',\n",
    "    \"Store_addr_value\": 'blue',\n",
    "    \"Store_name_key\": 'red',\n",
    "    \"Store_name_value\": 'blue',\n",
    "    \"Subtotal_key\": 'red',\n",
    "    \"Subtotal_value\": 'blue',\n",
    "    \"Tax_key\": 'red',\n",
    "    \"Tax_value\": 'green',\n",
    "    \"Tel_key\": 'red',\n",
    "    \"Tel_value\": 'green',\n",
    "    \"Time_key\": 'red',\n",
    "    \"Time_value\": 'green',\n",
    "    \"Tips_key\": 'red',\n",
    "    \"Tips_value\": 'green',\n",
    "    \"Total_key\": 'red',\n",
    "    \"Total_value\": 'blue'\n",
    "  }\n",
    "\n",
    "for prediction, box in zip(true_predictions, true_boxes):\n",
    "    predicted_label = iob_to_label(prediction)\n",
    "    draw.rectangle(box, outline=label2color[predicted_label])\n",
    "    draw.text((box[0] + 10, box[1] - 10), text=predicted_label, fill=label2color[predicted_label], font=font)\n",
    "\n",
    "image_pil.save(os.path.join(DIR,'Result',inf_path+'.png'))"
   ]
  },
  {
   "cell_type": "markdown",
   "metadata": {},
   "source": [
    "## Inference trial 2"
   ]
  },
  {
   "cell_type": "code",
   "execution_count": 9,
   "metadata": {},
   "outputs": [],
   "source": [
    "processor = AutoProcessor.from_pretrained(\"Theivaprakasham/layoutlmv3-finetuned-wildreceipt\", apply_ocr=False)"
   ]
  },
  {
   "cell_type": "code",
   "execution_count": 10,
   "metadata": {},
   "outputs": [],
   "source": [
    "model = AutoModelForTokenClassification.from_pretrained(\"Theivaprakasham/layoutlmv3-finetuned-wildreceipt\")"
   ]
  },
  {
   "cell_type": "code",
   "execution_count": 21,
   "metadata": {},
   "outputs": [],
   "source": [
    "# define id2label, label2color\n",
    "labels = dataset['test'].features['ner_tags'].feature.names\n",
    "id2label = {v: k for v, k in enumerate(labels)}\n",
    "label2color = {\n",
    "    \"Date_key\": 'red',\n",
    "    \"Date_value\": 'blue',\n",
    "    \"Ignore\": 'orange',\n",
    "    \"Others\": 'orange',\n",
    "    \"Prod_item_key\": 'red',\n",
    "    \"Prod_item_value\": 'green',\n",
    "    \"Prod_price_key\": 'red',\n",
    "    \"Prod_price_value\": 'blue',\n",
    "    \"Prod_quantity_key\": 'red',\n",
    "    \"Prod_quantity_value\": 'green',\n",
    "    \"Store_addr_key\": 'red',\n",
    "    \"Store_addr_value\": 'blue',\n",
    "    \"Store_name_key\": 'red',\n",
    "    \"Store_name_value\": 'blue',\n",
    "    \"Subtotal_key\": 'red',\n",
    "    \"Subtotal_value\": 'blue',\n",
    "    \"Tax_key\": 'red',\n",
    "    \"Tax_value\": 'green',\n",
    "    \"Tel_key\": 'red',\n",
    "    \"Tel_value\": 'green',\n",
    "    \"Time_key\": 'red',\n",
    "    \"Time_value\": 'green',\n",
    "    \"Tips_key\": 'red',\n",
    "    \"Tips_value\": 'green',\n",
    "    \"Total_key\": 'red',\n",
    "    \"Total_value\": 'blue'\n",
    "  }\n",
    "\n",
    "def unnormalize_box(bbox, width, height):\n",
    "     return [\n",
    "         width * (bbox[0] / 1000),\n",
    "         height * (bbox[1] / 1000),\n",
    "         width * (bbox[2] / 1000),\n",
    "         height * (bbox[3] / 1000),\n",
    "     ]\n",
    "\n",
    "\n",
    "def iob_to_label(label):\n",
    "    return label\n",
    "\n",
    "\n",
    "\n",
    "def process_image(filepath):\n",
    "    filename = filepath.split('/')[-1].split('//')[-1].split('\\\\')[-1]\n",
    "    image = Image.open(filepath).convert(\"RGB\")\n",
    "    print(type(image))\n",
    "    width, height = image.size\n",
    "\n",
    "    with open(os.path.join(DIR,'annotation.json')) as f:\n",
    "        data = json.load(f)\n",
    "\n",
    "    inf_data = data[filename]\n",
    "    inf_path, inf_words, inf_bboxes = inf_data['file_name'],inf_data[\"words\"], inf_data[\"bboxes\"]\n",
    "    \n",
    "    words = inf_words\n",
    "    boxes = inf_bboxes\n",
    "\n",
    "    # encode\n",
    "    # encoding = processor(image, truncation=True, return_offsets_mapping=True, return_tensors=\"pt\")\n",
    "    encoding = processor(image, inf_words, boxes=inf_bboxes, return_tensors=\"pt\",truncation=True,padding=True)\n",
    "\n",
    "    # forward pass\n",
    "    with torch.no_grad():\n",
    "        outputs = model(**encoding)\n",
    "\n",
    "    # get predictions\n",
    "    predictions = outputs.logits.argmax(-1).squeeze().tolist()\n",
    "    token_boxes = encoding.bbox.squeeze().tolist()\n",
    "\n",
    "    # only keep non-subword predictions\n",
    "    true_predictions = [id2label[pred] for idx, pred in enumerate(predictions)]\n",
    "    true_boxes = [unnormalize_box(box, width, height) for idx, box in enumerate(token_boxes)]\n",
    "\n",
    "    # draw predictions over the image\n",
    "    draw = ImageDraw.Draw(image)\n",
    "    font = ImageFont.load_default()\n",
    "    for prediction, box in zip(true_predictions, true_boxes):\n",
    "        predicted_label = iob_to_label(prediction)\n",
    "        draw.rectangle(box, outline=label2color[predicted_label])\n",
    "        draw.text((box[0]+10, box[1]-10), text=predicted_label, fill=label2color[predicted_label], font=font)\n",
    "        \n",
    "    image.save(os.path.join(DIR,'Result',inf_path))\n",
    "    return image"
   ]
  },
  {
   "cell_type": "code",
   "execution_count": 31,
   "metadata": {},
   "outputs": [
    {
     "name": "stdout",
     "output_type": "stream",
     "text": [
      "<class 'PIL.Image.Image'>\n"
     ]
    },
    {
     "name": "stderr",
     "output_type": "stream",
     "text": [
      "c:\\Users\\asus\\AppData\\Local\\Programs\\Python\\Python310\\lib\\site-packages\\transformers\\modeling_utils.py:763: FutureWarning: The `device` argument is deprecated and will be removed in v5 of Transformers.\n",
      "  warnings.warn(\n"
     ]
    },
    {
     "name": "stdout",
     "output_type": "stream",
     "text": [
      "<class 'PIL.Image.Image'>\n",
      "<class 'PIL.Image.Image'>\n",
      "20221013_192902.jpg  has a problem\n",
      "<class 'PIL.Image.Image'>\n",
      "<class 'PIL.Image.Image'>\n",
      "<class 'PIL.Image.Image'>\n",
      "<class 'PIL.Image.Image'>\n",
      "<class 'PIL.Image.Image'>\n",
      "<class 'PIL.Image.Image'>\n",
      "<class 'PIL.Image.Image'>\n",
      "<class 'PIL.Image.Image'>\n",
      "<class 'PIL.Image.Image'>\n",
      "<class 'PIL.Image.Image'>\n",
      "<class 'PIL.Image.Image'>\n",
      "<class 'PIL.Image.Image'>\n",
      "<class 'PIL.Image.Image'>\n",
      "<class 'PIL.Image.Image'>\n",
      "<class 'PIL.Image.Image'>\n",
      "<class 'PIL.Image.Image'>\n",
      "<class 'PIL.Image.Image'>\n",
      "<class 'PIL.Image.Image'>\n",
      "<class 'PIL.Image.Image'>\n",
      "<class 'PIL.Image.Image'>\n",
      "<class 'PIL.Image.Image'>\n",
      "<class 'PIL.Image.Image'>\n",
      "<class 'PIL.Image.Image'>\n",
      "<class 'PIL.Image.Image'>\n",
      "<class 'PIL.Image.Image'>\n",
      "<class 'PIL.Image.Image'>\n",
      "<class 'PIL.Image.Image'>\n",
      "<class 'PIL.Image.Image'>\n",
      "<class 'PIL.Image.Image'>\n",
      "<class 'PIL.Image.Image'>\n",
      "<class 'PIL.Image.Image'>\n",
      "<class 'PIL.Image.Image'>\n",
      "<class 'PIL.Image.Image'>\n",
      "<class 'PIL.Image.Image'>\n",
      "<class 'PIL.Image.Image'>\n",
      "<class 'PIL.Image.Image'>\n",
      "<class 'PIL.Image.Image'>\n",
      "<class 'PIL.Image.Image'>\n",
      "<class 'PIL.Image.Image'>\n",
      "<class 'PIL.Image.Image'>\n",
      "<class 'PIL.Image.Image'>\n",
      "<class 'PIL.Image.Image'>\n",
      "<class 'PIL.Image.Image'>\n",
      "<class 'PIL.Image.Image'>\n",
      "<class 'PIL.Image.Image'>\n",
      "20221013_195113.jpg  has a problem\n",
      "<class 'PIL.Image.Image'>\n",
      "20221013_195129.jpg  has a problem\n",
      "<class 'PIL.Image.Image'>\n",
      "20221013_195153.jpg  has a problem\n",
      "<class 'PIL.Image.Image'>\n",
      "<class 'PIL.Image.Image'>\n",
      "<class 'PIL.Image.Image'>\n",
      "<class 'PIL.Image.Image'>\n",
      "<class 'PIL.Image.Image'>\n",
      "<class 'PIL.Image.Image'>\n",
      "<class 'PIL.Image.Image'>\n",
      "<class 'PIL.Image.Image'>\n",
      "<class 'PIL.Image.Image'>\n",
      "<class 'PIL.Image.Image'>\n",
      "<class 'PIL.Image.Image'>\n"
     ]
    }
   ],
   "source": [
    "for filename in os.listdir('Nota_Segmented'):\n",
    "    try:\n",
    "        if filename != '20221013_194642.jpg':\n",
    "            process_image(os.path.join('Nota_Segmented',filename))\n",
    "    except:\n",
    "        print(filename,\" has a problem\")"
   ]
  },
  {
   "cell_type": "code",
   "execution_count": null,
   "metadata": {},
   "outputs": [],
   "source": []
  }
 ],
 "metadata": {
  "kernelspec": {
   "display_name": "Python 3.10.4 64-bit",
   "language": "python",
   "name": "python3"
  },
  "language_info": {
   "codemirror_mode": {
    "name": "ipython",
    "version": 3
   },
   "file_extension": ".py",
   "mimetype": "text/x-python",
   "name": "python",
   "nbconvert_exporter": "python",
   "pygments_lexer": "ipython3",
   "version": "3.10.4 (tags/v3.10.4:9d38120, Mar 23 2022, 23:13:41) [MSC v.1929 64 bit (AMD64)]"
  },
  "orig_nbformat": 4,
  "vscode": {
   "interpreter": {
    "hash": "876db7d3f8682b7e4c5477e5f1e2dc2bd1b19fe05d9aabd59218369070754b39"
   }
  }
 },
 "nbformat": 4,
 "nbformat_minor": 2
}
